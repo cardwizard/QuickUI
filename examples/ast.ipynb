{
 "cells": [
  {
   "cell_type": "markdown",
   "metadata": {},
   "source": [
    "# Playing with Abstract Syntax Tree (AST)"
   ]
  },
  {
   "cell_type": "markdown",
   "metadata": {},
   "source": [
    "Pyhton has a standard library called ast which can be used to conver code into ast. Lets take ast_example.py and convert it into AST."
   ]
  },
  {
   "cell_type": "code",
   "execution_count": 1,
   "metadata": {},
   "outputs": [],
   "source": [
    "import ast\n",
    "file_path = 'ast_example.py'\n",
    "ast_head = compile(open(file_path, 'rb').read(), file_path, 'exec', ast.PyCF_ONLY_AST)"
   ]
  },
  {
   "cell_type": "markdown",
   "metadata": {},
   "source": [
    "**ast_head** is currently pointing to the head of AST. If we call body on it, it show its children. It will have two children. One representing statement **a=1** and one representing the function f."
   ]
  },
  {
   "cell_type": "code",
   "execution_count": 2,
   "metadata": {},
   "outputs": [
    {
     "data": {
      "text/plain": [
       "[<_ast.Assign at 0x1e77553bba8>, <_ast.FunctionDef at 0x1e77553bc50>]"
      ]
     },
     "execution_count": 2,
     "metadata": {},
     "output_type": "execute_result"
    }
   ],
   "source": [
    "ast_head.body"
   ]
  },
  {
   "cell_type": "markdown",
   "metadata": {},
   "source": [
    "Lets see what's inside the first children which is representing **a=1**. Whenever you don't know how to look inside a node, use **dir** method."
   ]
  },
  {
   "cell_type": "code",
   "execution_count": 3,
   "metadata": {},
   "outputs": [
    {
     "data": {
      "text/plain": [
       "['__class__',\n",
       " '__delattr__',\n",
       " '__dict__',\n",
       " '__dir__',\n",
       " '__doc__',\n",
       " '__eq__',\n",
       " '__format__',\n",
       " '__ge__',\n",
       " '__getattribute__',\n",
       " '__gt__',\n",
       " '__hash__',\n",
       " '__init__',\n",
       " '__init_subclass__',\n",
       " '__le__',\n",
       " '__lt__',\n",
       " '__module__',\n",
       " '__ne__',\n",
       " '__new__',\n",
       " '__reduce__',\n",
       " '__reduce_ex__',\n",
       " '__repr__',\n",
       " '__setattr__',\n",
       " '__sizeof__',\n",
       " '__str__',\n",
       " '__subclasshook__',\n",
       " '__weakref__',\n",
       " '_attributes',\n",
       " '_fields',\n",
       " 'col_offset',\n",
       " 'lineno',\n",
       " 'targets',\n",
       " 'value']"
      ]
     },
     "execution_count": 3,
     "metadata": {},
     "output_type": "execute_result"
    }
   ],
   "source": [
    "first_child = ast_head.body[0]\n",
    "dir(first_child)"
   ]
  },
  {
   "cell_type": "markdown",
   "metadata": {},
   "source": [
    "Ohh so looks like it has a **targets** attribute and a **value** attribute which makes sense. If we call this method on the node then we will get the corresponding children nodes. Lets first check what is the value node which should be RHS of the assignment **a=1**."
   ]
  },
  {
   "cell_type": "code",
   "execution_count": 4,
   "metadata": {},
   "outputs": [
    {
     "data": {
      "text/plain": [
       "<_ast.Num at 0x1e77553bc18>"
      ]
     },
     "execution_count": 4,
     "metadata": {},
     "output_type": "execute_result"
    }
   ],
   "source": [
    "first_child.value"
   ]
  },
  {
   "cell_type": "markdown",
   "metadata": {},
   "source": [
    "As expected, it is a number. Lets look what's inside it."
   ]
  },
  {
   "cell_type": "code",
   "execution_count": 5,
   "metadata": {},
   "outputs": [
    {
     "data": {
      "text/plain": [
       "['__class__',\n",
       " '__delattr__',\n",
       " '__dict__',\n",
       " '__dir__',\n",
       " '__doc__',\n",
       " '__eq__',\n",
       " '__format__',\n",
       " '__ge__',\n",
       " '__getattribute__',\n",
       " '__gt__',\n",
       " '__hash__',\n",
       " '__init__',\n",
       " '__init_subclass__',\n",
       " '__le__',\n",
       " '__lt__',\n",
       " '__module__',\n",
       " '__ne__',\n",
       " '__new__',\n",
       " '__reduce__',\n",
       " '__reduce_ex__',\n",
       " '__repr__',\n",
       " '__setattr__',\n",
       " '__sizeof__',\n",
       " '__str__',\n",
       " '__subclasshook__',\n",
       " '__weakref__',\n",
       " '_attributes',\n",
       " '_fields',\n",
       " 'col_offset',\n",
       " 'lineno',\n",
       " 'n']"
      ]
     },
     "execution_count": 5,
     "metadata": {},
     "output_type": "execute_result"
    }
   ],
   "source": [
    "dir(first_child.value)"
   ]
  },
  {
   "cell_type": "code",
   "execution_count": 6,
   "metadata": {},
   "outputs": [
    {
     "data": {
      "text/plain": [
       "1"
      ]
     },
     "execution_count": 6,
     "metadata": {},
     "output_type": "execute_result"
    }
   ],
   "source": [
    "first_child.value.n"
   ]
  },
  {
   "cell_type": "markdown",
   "metadata": {},
   "source": [
    "Woah!!! That's awesome. Lets check the LHS now."
   ]
  },
  {
   "cell_type": "code",
   "execution_count": 7,
   "metadata": {},
   "outputs": [
    {
     "data": {
      "text/plain": [
       "[<_ast.Name at 0x1e77553bbe0>]"
      ]
     },
     "execution_count": 7,
     "metadata": {},
     "output_type": "execute_result"
    }
   ],
   "source": [
    "first_child.targets"
   ]
  },
  {
   "cell_type": "markdown",
   "metadata": {},
   "source": [
    "It is a list because we can do **a=b=1**. Lets dig deeper."
   ]
  },
  {
   "cell_type": "code",
   "execution_count": 8,
   "metadata": {},
   "outputs": [
    {
     "data": {
      "text/plain": [
       "['__class__',\n",
       " '__delattr__',\n",
       " '__dict__',\n",
       " '__dir__',\n",
       " '__doc__',\n",
       " '__eq__',\n",
       " '__format__',\n",
       " '__ge__',\n",
       " '__getattribute__',\n",
       " '__gt__',\n",
       " '__hash__',\n",
       " '__init__',\n",
       " '__init_subclass__',\n",
       " '__le__',\n",
       " '__lt__',\n",
       " '__module__',\n",
       " '__ne__',\n",
       " '__new__',\n",
       " '__reduce__',\n",
       " '__reduce_ex__',\n",
       " '__repr__',\n",
       " '__setattr__',\n",
       " '__sizeof__',\n",
       " '__str__',\n",
       " '__subclasshook__',\n",
       " '__weakref__',\n",
       " '_attributes',\n",
       " '_fields',\n",
       " 'col_offset',\n",
       " 'ctx',\n",
       " 'id',\n",
       " 'lineno']"
      ]
     },
     "execution_count": 8,
     "metadata": {},
     "output_type": "execute_result"
    }
   ],
   "source": [
    "dir(first_child.targets[0])"
   ]
  },
  {
   "cell_type": "code",
   "execution_count": 9,
   "metadata": {},
   "outputs": [
    {
     "data": {
      "text/plain": [
       "'a'"
      ]
     },
     "execution_count": 9,
     "metadata": {},
     "output_type": "execute_result"
    }
   ],
   "source": [
    "first_child.targets[0].id"
   ]
  },
  {
   "cell_type": "markdown",
   "metadata": {},
   "source": [
    "Now lets look into the second child of the head. We can also use **ast.dump** to see what's inside a node instead of **dir**."
   ]
  },
  {
   "cell_type": "code",
   "execution_count": 10,
   "metadata": {},
   "outputs": [
    {
     "data": {
      "text/plain": [
       "\"FunctionDef(name='f', args=arguments(args=[arg(arg='b', annotation=None)], vararg=None, kwonlyargs=[], kw_defaults=[], kwarg=None, defaults=[]), body=[Assign(targets=[Name(id='c', ctx=Store())], value=Str(s='AST is fun')), Expr(value=Call(func=Name(id='print', ctx=Load()), args=[Name(id='c', ctx=Load())], keywords=[]))], decorator_list=[], returns=None)\""
      ]
     },
     "execution_count": 10,
     "metadata": {},
     "output_type": "execute_result"
    }
   ],
   "source": [
    "second_child = ast_head.body[1]\n",
    "ast.dump(second_child)"
   ]
  },
  {
   "cell_type": "markdown",
   "metadata": {},
   "source": [
    "Looking at this we quickly know how to access all the nodes. Like **second_child.name** should return **f**."
   ]
  },
  {
   "cell_type": "code",
   "execution_count": 11,
   "metadata": {},
   "outputs": [
    {
     "data": {
      "text/plain": [
       "'f'"
      ]
     },
     "execution_count": 11,
     "metadata": {},
     "output_type": "execute_result"
    }
   ],
   "source": [
    "second_child.name"
   ]
  },
  {
   "cell_type": "code",
   "execution_count": 12,
   "metadata": {},
   "outputs": [
    {
     "data": {
      "text/plain": [
       "'b'"
      ]
     },
     "execution_count": 12,
     "metadata": {},
     "output_type": "execute_result"
    }
   ],
   "source": [
    "second_child.args.args[0].arg"
   ]
  },
  {
   "cell_type": "code",
   "execution_count": 13,
   "metadata": {},
   "outputs": [
    {
     "data": {
      "text/plain": [
       "'c'"
      ]
     },
     "execution_count": 13,
     "metadata": {},
     "output_type": "execute_result"
    }
   ],
   "source": [
    "second_child.body[0].targets[0].id"
   ]
  },
  {
   "cell_type": "code",
   "execution_count": 14,
   "metadata": {},
   "outputs": [
    {
     "data": {
      "text/plain": [
       "'AST is fun'"
      ]
     },
     "execution_count": 14,
     "metadata": {},
     "output_type": "execute_result"
    }
   ],
   "source": [
    "second_child.body[0].value.s"
   ]
  },
  {
   "cell_type": "code",
   "execution_count": 15,
   "metadata": {},
   "outputs": [
    {
     "data": {
      "text/plain": [
       "'print'"
      ]
     },
     "execution_count": 15,
     "metadata": {},
     "output_type": "execute_result"
    }
   ],
   "source": [
    "second_child.body[1].value.func.id"
   ]
  },
  {
   "cell_type": "code",
   "execution_count": 16,
   "metadata": {},
   "outputs": [
    {
     "data": {
      "text/plain": [
       "'c'"
      ]
     },
     "execution_count": 16,
     "metadata": {},
     "output_type": "execute_result"
    }
   ],
   "source": [
    "second_child.body[1].value.args[0].id"
   ]
  },
  {
   "cell_type": "markdown",
   "metadata": {},
   "source": [
    "Now lets try to change the first statement **a=1** to **a=2**. We saw that 1 is represented by a node of type **ast.Num** whose **n** attribute is set to 1. So we need to create a ast node with **n** attribute set to 2 and make it value of **first_child** node."
   ]
  },
  {
   "cell_type": "code",
   "execution_count": 17,
   "metadata": {},
   "outputs": [],
   "source": [
    "new_node = ast.Num(n=2)\n",
    "first_child.value = new_node"
   ]
  },
  {
   "cell_type": "markdown",
   "metadata": {},
   "source": [
    "Now we can use astunparse library to conver to ast back to code. This is not a standard library so you will need to install it."
   ]
  },
  {
   "cell_type": "code",
   "execution_count": 330,
   "metadata": {},
   "outputs": [],
   "source": [
    "file_path = \"choices_test.py\""
   ]
  },
  {
   "cell_type": "code",
   "execution_count": 357,
   "metadata": {},
   "outputs": [],
   "source": [
    "ast_head = compile(open(file_path, 'rb').read(), file_path, 'exec', ast.PyCF_ONLY_AST)"
   ]
  },
  {
   "cell_type": "code",
   "execution_count": 362,
   "metadata": {},
   "outputs": [
    {
     "name": "stdout",
     "output_type": "stream",
     "text": [
      "['__class__', '__delattr__', '__dict__', '__dir__', '__doc__', '__eq__', '__format__', '__ge__', '__getattribute__', '__gt__', '__hash__', '__init__', '__init_subclass__', '__le__', '__lt__', '__module__', '__ne__', '__new__', '__reduce__', '__reduce_ex__', '__repr__', '__setattr__', '__sizeof__', '__str__', '__subclasshook__', '__weakref__', '_attributes', '_fields', 'args', 'col_offset', 'func', 'keywords', 'lineno']\n"
     ]
    },
    {
     "data": {
      "text/plain": [
       "[{'parameter': '--check-choices',\n",
       "  'help': 'string help',\n",
       "  'type': 'str',\n",
       "  'required': True,\n",
       "  'choices': ['rock', 'paper', 'scissors']},\n",
       " {'parameter': 'door', 'type': 'int', 'choices': 'Unknown Type'}]"
      ]
     },
     "execution_count": 362,
     "metadata": {},
     "output_type": "execute_result"
    }
   ],
   "source": [
    "bfs_list = []\n",
    "bfs_list = ast_head.body.copy()\n",
    "parser_argument_list = []\n",
    "\n",
    "i = 0\n",
    "\n",
    "while True:\n",
    "    if i >= len(bfs_list):\n",
    "        break\n",
    "        \n",
    "    element = bfs_list[i]\n",
    "    i += 1\n",
    "    \n",
    "    # Skip if there are any imports     \n",
    "    if element.__class__ == ast.Import or element.__class__ == ast.ImportFrom:\n",
    "        continue\n",
    "    \n",
    "    # Check for \"if\" class\n",
    "    if element.__class__ == ast.If:\n",
    "        bfs_list.extend(element.body)\n",
    "    \n",
    "    # Check for \"functionDef\" class     \n",
    "    if isinstance(element, ast.FunctionDef):\n",
    "        bfs_list.extend(element.body)\n",
    "    \n",
    "    # Check if it has the value attribute that we can extract\n",
    "    if \"value\" not in element._fields:\n",
    "        continue\n",
    "        \n",
    "    # Check if the element contains a function field\n",
    "    if \"func\" not in element.value._fields and isinstance(element.value, ast.Call):\n",
    "        continue\n",
    "\n",
    "    # Check if \"attr\" field exists in this\n",
    "    if \"attr\" not in element.value.func._fields:\n",
    "        continue\n",
    "    \n",
    "    # Check if \"add_argument\" exists     \n",
    "    if element.value.func.attr != \"add_argument\":\n",
    "        continue\n",
    "    \n",
    "    # Find the parameter name\n",
    "    if 0 < len(element.value.args) > 1:\n",
    "        continue\n",
    "    \n",
    "    \n",
    "    argument = element.value.args\n",
    "    keywords = element.value.keywords\n",
    "    parser_details = {\"parameter\": argument[0].s}\n",
    "    \n",
    "    for keyword in keywords:\n",
    "        parser_key = keyword.arg\n",
    "        parser_value_arg = keyword.value\n",
    "        parsed_value = None\n",
    "        \n",
    "        parsed_value = extractor(parser_value_arg) \n",
    "        \n",
    "        parser_details[parser_key] = parsed_value\n",
    "        \n",
    "    parser_argument_list.append(parser_details)\n",
    "parser_argument_list"
   ]
  },
  {
   "cell_type": "code",
   "execution_count": 361,
   "metadata": {},
   "outputs": [],
   "source": [
    "def extractor(parser_value_arg):\n",
    "    if isinstance(parser_value_arg, ast.Str):\n",
    "        parsed_value = parser_value_arg.s\n",
    "            \n",
    "    elif isinstance(parser_value_arg, ast.Name):\n",
    "        parsed_value = parser_value_arg.id\n",
    "\n",
    "    elif isinstance(parser_value_arg, ast.NameConstant):\n",
    "        parsed_value = parser_value_arg.value\n",
    "\n",
    "    elif isinstance(parser_value_arg, ast.List):\n",
    "        parsed_value = [extractor(x) for x in parser_value_arg.elts]\n",
    "        \n",
    "    elif isinstance(parser_value_arg, ast.Call):\n",
    "        if parser_value_arg.value.func.id == \"range\":\n",
    "            parsed_value = {\"function_type\": \"range\", \"\"}\n",
    "        \n",
    "    else:\n",
    "        print(dir(parser_value_arg))\n",
    "        parsed_value = \"Unknown Type\"\n",
    "    return parsed_value"
   ]
  },
  {
   "cell_type": "code",
   "execution_count": 380,
   "metadata": {},
   "outputs": [
    {
     "data": {
      "text/plain": [
       "'range'"
      ]
     },
     "execution_count": 380,
     "metadata": {},
     "output_type": "execute_result"
    }
   ],
   "source": [
    "ast_head.body[1].body[2].value.keywords[1].value.func.id"
   ]
  },
  {
   "cell_type": "code",
   "execution_count": 385,
   "metadata": {},
   "outputs": [
    {
     "data": {
      "text/plain": [
       "1"
      ]
     },
     "execution_count": 385,
     "metadata": {},
     "output_type": "execute_result"
    }
   ],
   "source": [
    "ast_head.body[1].body[2].value.keywords[1].value.args[0].n"
   ]
  },
  {
   "cell_type": "code",
   "execution_count": null,
   "metadata": {},
   "outputs": [],
   "source": []
  }
 ],
 "metadata": {
  "kernelspec": {
   "display_name": "Python 3",
   "language": "python",
   "name": "python3"
  },
  "language_info": {
   "codemirror_mode": {
    "name": "ipython",
    "version": 3
   },
   "file_extension": ".py",
   "mimetype": "text/x-python",
   "name": "python",
   "nbconvert_exporter": "python",
   "pygments_lexer": "ipython3",
   "version": "3.6.5"
  }
 },
 "nbformat": 4,
 "nbformat_minor": 1
}
